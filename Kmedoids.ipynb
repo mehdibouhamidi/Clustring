{
 "cells": [
  {
   "cell_type": "code",
   "execution_count": 4,
   "id": "8adbec60",
   "metadata": {},
   "outputs": [
    {
     "name": "stdout",
     "output_type": "stream",
     "text": [
      "Collecting scikit-learn-extra\n",
      "  Downloading scikit_learn_extra-0.2.0-cp39-cp39-win_amd64.whl (380 kB)\n",
      "Requirement already satisfied: scipy>=0.19.1 in c:\\users\\ragragui\\anaconda3\\lib\\site-packages (from scikit-learn-extra) (1.7.3)\n",
      "Requirement already satisfied: numpy>=1.13.3 in c:\\users\\ragragui\\anaconda3\\lib\\site-packages (from scikit-learn-extra) (1.20.3)\n",
      "Requirement already satisfied: scikit-learn>=0.23.0 in c:\\users\\ragragui\\anaconda3\\lib\\site-packages (from scikit-learn-extra) (1.0.2)\n",
      "Requirement already satisfied: threadpoolctl>=2.0.0 in c:\\users\\ragragui\\anaconda3\\lib\\site-packages (from scikit-learn>=0.23.0->scikit-learn-extra) (2.2.0)\n",
      "Requirement already satisfied: joblib>=0.11 in c:\\users\\ragragui\\anaconda3\\lib\\site-packages (from scikit-learn>=0.23.0->scikit-learn-extra) (1.1.0)\n",
      "Installing collected packages: scikit-learn-extra\n",
      "Successfully installed scikit-learn-extra-0.2.0\n"
     ]
    }
   ],
   "source": [
    "!pip install scikit-learn-extra"
   ]
  },
  {
   "cell_type": "code",
   "execution_count": 6,
   "id": "461f55c6",
   "metadata": {},
   "outputs": [
    {
     "name": "stdout",
     "output_type": "stream",
     "text": [
      "      Name  Age  Income\n",
      "0      Rob   27   70000\n",
      "1  Michael   29   90000\n",
      "2    Mohan   29   61000\n",
      "3   Ismail   28   60000\n",
      "4     Kory   42  150000\n"
     ]
    }
   ],
   "source": [
    "import numpy as np\n",
    "import matplotlib.pyplot as plt\n",
    "import pandas as pd\n",
    "from sklearn_extra.cluster import KMedoids\n",
    "from sklearn.preprocessing import MinMaxScaler\n",
    "from matplotlib import pyplot as plt\n",
    "from sklearn.preprocessing import StandardScaler\n",
    "#reading data from an cvs file\n",
    "data = pd.read_csv(\"income.csv\")\n",
    "print(data.head())\n"
   ]
  },
  {
   "cell_type": "code",
   "execution_count": 8,
   "id": "cd122398",
   "metadata": {},
   "outputs": [
    {
     "data": {
      "image/png": "[encoded data removed]",
      "text/plain": [
       "<Figure size 432x288 with 1 Axes>"
      ]
     },
     "metadata": {
      "needs_background": "light"
     },
     "output_type": "display_data"
    }
   ],
   "source": [
    "\n",
    "# Show data on a plot\n",
    "plt.scatter(data['Age'],data['Income'])\n",
    "plt.xlabel('Age')\n",
    "plt.ylabel('Income($)')\n",
    "plt.show()\n",
    "\n"
   ]
  },
  {
   "cell_type": "code",
   "execution_count": 11,
   "id": "27e83109",
   "metadata": {},
   "outputs": [
    {
     "data": {
      "image/png": "[encoded data removed]",
      "text/plain": [
       "<Figure size 432x288 with 1 Axes>"
      ]
     },
     "metadata": {
      "needs_background": "light"
     },
     "output_type": "display_data"
    }
   ],
   "source": [
    "\n",
    "#Preprocessing data\n",
    "scaler = MinMaxScaler()\n",
    "\n",
    "scaler.fit(data[['Income']])\n",
    "data['Income'] = scaler.transform(data[['Income']])\n",
    "\n",
    "scaler.fit(data[['Age']])\n",
    "data['Age'] = scaler.transform(data[['Age']])\n",
    "plt.scatter(data.Age,data['Income'])\n",
    "plt.show()\n"
   ]
  },
  {
   "cell_type": "code",
   "execution_count": 13,
   "id": "990f3801",
   "metadata": {},
   "outputs": [
    {
     "name": "stdout",
     "output_type": "stream",
     "text": [
      "      Name       Age    Income  cluster\n",
      "0      Rob  0.058824  0.213675        2\n",
      "1  Michael  0.176471  0.384615        1\n",
      "2    Mohan  0.176471  0.136752        2\n",
      "3   Ismail  0.117647  0.128205        2\n",
      "4     Kory  0.941176  0.897436        0\n"
     ]
    },
    {
     "data": {
      "image/png": "[encoded data removed]",
      "text/plain": [
       "<Figure size 432x288 with 1 Axes>"
      ]
     },
     "metadata": {
      "needs_background": "light"
     },
     "output_type": "display_data"
    }
   ],
   "source": [
    "\n",
    "\n",
    "kMedoids = KMedoids(n_clusters = 3, random_state = 0)\n",
    "y_kmed = kMedoids.fit_predict(data[['Age','Income']])\n",
    "data['cluster']=y_kmed\n",
    "print(data.head())\n",
    "#print(y_kmed)\n",
    "\n",
    "#collect the data of each cluster\n",
    "data1 = data[data.cluster==0]\n",
    "data2 = data[data.cluster==1]\n",
    "data3 = data[data.cluster==2]\n",
    "\n",
    "#plot the data\n",
    "plt.scatter(data1.Age,data1['Income'],color='green')\n",
    "plt.scatter(data2.Age,data2['Income'],color='red')\n",
    "plt.scatter(data3.Age,data3['Income'],color='black')\n",
    "plt.scatter(kMedoids.cluster_centers_[:,0],kMedoids.cluster_centers_[:,1],color='purple',marker='*',label='centroid')\n",
    "plt.legend()\n",
    "plt.show()"
   ]
  }
 ],
 "metadata": {
  "kernelspec": {
   "display_name": "Python 3 (ipykernel)",
   "language": "python",
   "name": "python3"
  },
  "language_info": {
   "codemirror_mode": {
    "name": "ipython",
    "version": 3
   },
   "file_extension": ".py",
   "mimetype": "text/x-python",
   "name": "python",
   "nbconvert_exporter": "python",
   "pygments_lexer": "ipython3",
   "version": "3.9.7"
  }
 },
 "nbformat": 4,
 "nbformat_minor": 5
}
